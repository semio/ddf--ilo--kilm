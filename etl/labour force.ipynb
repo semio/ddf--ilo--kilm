{
 "cells": [
  {
   "cell_type": "code",
   "execution_count": 1,
   "metadata": {
    "collapsed": false
   },
   "outputs": [],
   "source": [
    "import pandas as pd\n",
    "import numpy as np\n",
    "import os\n",
    "\n",
    "from ddf_utils.str import to_concept_id\n",
    "from ddf_utils.index import create_index_file"
   ]
  },
  {
   "cell_type": "code",
   "execution_count": null,
   "metadata": {
    "collapsed": true
   },
   "outputs": [],
   "source": []
  },
  {
   "cell_type": "code",
   "execution_count": null,
   "metadata": {
    "collapsed": true
   },
   "outputs": [],
   "source": []
  },
  {
   "cell_type": "code",
   "execution_count": 2,
   "metadata": {
    "collapsed": true
   },
   "outputs": [],
   "source": [
    "source = 'source/kilm01.xlsx'"
   ]
  },
  {
   "cell_type": "code",
   "execution_count": 3,
   "metadata": {
    "collapsed": true
   },
   "outputs": [],
   "source": [
    "data = pd.read_excel(source, skiprows=2)"
   ]
  },
  {
   "cell_type": "code",
   "execution_count": 4,
   "metadata": {
    "collapsed": false
   },
   "outputs": [
    {
     "data": {
      "text/html": [
       "<div>\n",
       "<table border=\"1\" class=\"dataframe\">\n",
       "  <thead>\n",
       "    <tr style=\"text-align: right;\">\n",
       "      <th></th>\n",
       "      <th>Country (code)</th>\n",
       "      <th>Country</th>\n",
       "      <th>Region</th>\n",
       "      <th>Sub-region (broad)</th>\n",
       "      <th>Sub-region (detailed)</th>\n",
       "      <th>Income group (code)</th>\n",
       "      <th>Income group</th>\n",
       "      <th>Year</th>\n",
       "      <th>Sex (code)</th>\n",
       "      <th>Sex</th>\n",
       "      <th>Age group (code)</th>\n",
       "      <th>Labour force ('000)</th>\n",
       "      <th>Population ('000)</th>\n",
       "      <th>Labour force participation rate (%)</th>\n",
       "      <th>Repository (code)</th>\n",
       "      <th>Repository</th>\n",
       "      <th>Type of statistic (code)</th>\n",
       "      <th>Type of statistic</th>\n",
       "    </tr>\n",
       "  </thead>\n",
       "  <tbody>\n",
       "    <tr>\n",
       "      <th>0</th>\n",
       "      <td>AFG</td>\n",
       "      <td>Afghanistan</td>\n",
       "      <td>Asia and the Pacific</td>\n",
       "      <td>Southern Asia</td>\n",
       "      <td>NaN</td>\n",
       "      <td>I</td>\n",
       "      <td>Low income</td>\n",
       "      <td>1990</td>\n",
       "      <td>MF</td>\n",
       "      <td>Male and female</td>\n",
       "      <td>15+</td>\n",
       "      <td>3196.350586</td>\n",
       "      <td>6267.271973</td>\n",
       "      <td>51.000668</td>\n",
       "      <td>LFEP</td>\n",
       "      <td>LFEP Database, 7th edition (January 2016 of th...</td>\n",
       "      <td>ILO</td>\n",
       "      <td>ILO estimates</td>\n",
       "    </tr>\n",
       "    <tr>\n",
       "      <th>1</th>\n",
       "      <td>AFG</td>\n",
       "      <td>Afghanistan</td>\n",
       "      <td>Asia and the Pacific</td>\n",
       "      <td>Southern Asia</td>\n",
       "      <td>NaN</td>\n",
       "      <td>I</td>\n",
       "      <td>Low income</td>\n",
       "      <td>1990</td>\n",
       "      <td>MF</td>\n",
       "      <td>Male and female</td>\n",
       "      <td>15-24</td>\n",
       "      <td>1026.528320</td>\n",
       "      <td>2293.822021</td>\n",
       "      <td>44.751873</td>\n",
       "      <td>LFEP</td>\n",
       "      <td>LFEP Database, 7th edition (January 2016 of th...</td>\n",
       "      <td>ILO</td>\n",
       "      <td>ILO estimates</td>\n",
       "    </tr>\n",
       "    <tr>\n",
       "      <th>2</th>\n",
       "      <td>AFG</td>\n",
       "      <td>Afghanistan</td>\n",
       "      <td>Asia and the Pacific</td>\n",
       "      <td>Southern Asia</td>\n",
       "      <td>NaN</td>\n",
       "      <td>I</td>\n",
       "      <td>Low income</td>\n",
       "      <td>1990</td>\n",
       "      <td>MF</td>\n",
       "      <td>Male and female</td>\n",
       "      <td>15-64</td>\n",
       "      <td>3133.075439</td>\n",
       "      <td>6000.932129</td>\n",
       "      <td>52.209812</td>\n",
       "      <td>LFEP</td>\n",
       "      <td>LFEP Database, 7th edition (January 2016 of th...</td>\n",
       "      <td>ILO</td>\n",
       "      <td>ILO estimates</td>\n",
       "    </tr>\n",
       "    <tr>\n",
       "      <th>3</th>\n",
       "      <td>AFG</td>\n",
       "      <td>Afghanistan</td>\n",
       "      <td>Asia and the Pacific</td>\n",
       "      <td>Southern Asia</td>\n",
       "      <td>NaN</td>\n",
       "      <td>I</td>\n",
       "      <td>Low income</td>\n",
       "      <td>1990</td>\n",
       "      <td>MF</td>\n",
       "      <td>Male and female</td>\n",
       "      <td>25-54</td>\n",
       "      <td>1936.388672</td>\n",
       "      <td>3330.002930</td>\n",
       "      <td>58.149757</td>\n",
       "      <td>LFEP</td>\n",
       "      <td>LFEP Database, 7th edition (January 2016 of th...</td>\n",
       "      <td>ILO</td>\n",
       "      <td>ILO estimates</td>\n",
       "    </tr>\n",
       "    <tr>\n",
       "      <th>4</th>\n",
       "      <td>AFG</td>\n",
       "      <td>Afghanistan</td>\n",
       "      <td>Asia and the Pacific</td>\n",
       "      <td>Southern Asia</td>\n",
       "      <td>NaN</td>\n",
       "      <td>I</td>\n",
       "      <td>Low income</td>\n",
       "      <td>1990</td>\n",
       "      <td>MF</td>\n",
       "      <td>Male and female</td>\n",
       "      <td>25-34</td>\n",
       "      <td>910.755432</td>\n",
       "      <td>1549.147095</td>\n",
       "      <td>58.790768</td>\n",
       "      <td>LFEP</td>\n",
       "      <td>LFEP Database, 7th edition (January 2016 of th...</td>\n",
       "      <td>ILO</td>\n",
       "      <td>ILO estimates</td>\n",
       "    </tr>\n",
       "  </tbody>\n",
       "</table>\n",
       "</div>"
      ],
      "text/plain": [
       "  Country (code)      Country                Region Sub-region (broad)  \\\n",
       "0            AFG  Afghanistan  Asia and the Pacific      Southern Asia   \n",
       "1            AFG  Afghanistan  Asia and the Pacific      Southern Asia   \n",
       "2            AFG  Afghanistan  Asia and the Pacific      Southern Asia   \n",
       "3            AFG  Afghanistan  Asia and the Pacific      Southern Asia   \n",
       "4            AFG  Afghanistan  Asia and the Pacific      Southern Asia   \n",
       "\n",
       "  Sub-region (detailed) Income group (code) Income group  Year Sex (code)  \\\n",
       "0                   NaN                   I   Low income  1990         MF   \n",
       "1                   NaN                   I   Low income  1990         MF   \n",
       "2                   NaN                   I   Low income  1990         MF   \n",
       "3                   NaN                   I   Low income  1990         MF   \n",
       "4                   NaN                   I   Low income  1990         MF   \n",
       "\n",
       "               Sex Age group (code)  Labour force ('000)  Population ('000)  \\\n",
       "0  Male and female              15+          3196.350586        6267.271973   \n",
       "1  Male and female            15-24          1026.528320        2293.822021   \n",
       "2  Male and female            15-64          3133.075439        6000.932129   \n",
       "3  Male and female            25-54          1936.388672        3330.002930   \n",
       "4  Male and female            25-34           910.755432        1549.147095   \n",
       "\n",
       "   Labour force participation rate (%) Repository (code)  \\\n",
       "0                            51.000668              LFEP   \n",
       "1                            44.751873              LFEP   \n",
       "2                            52.209812              LFEP   \n",
       "3                            58.149757              LFEP   \n",
       "4                            58.790768              LFEP   \n",
       "\n",
       "                                          Repository Type of statistic (code)  \\\n",
       "0  LFEP Database, 7th edition (January 2016 of th...                      ILO   \n",
       "1  LFEP Database, 7th edition (January 2016 of th...                      ILO   \n",
       "2  LFEP Database, 7th edition (January 2016 of th...                      ILO   \n",
       "3  LFEP Database, 7th edition (January 2016 of th...                      ILO   \n",
       "4  LFEP Database, 7th edition (January 2016 of th...                      ILO   \n",
       "\n",
       "  Type of statistic  \n",
       "0     ILO estimates  \n",
       "1     ILO estimates  \n",
       "2     ILO estimates  \n",
       "3     ILO estimates  \n",
       "4     ILO estimates  "
      ]
     },
     "execution_count": 4,
     "metadata": {},
     "output_type": "execute_result"
    }
   ],
   "source": [
    "data.head()"
   ]
  },
  {
   "cell_type": "code",
   "execution_count": null,
   "metadata": {
    "collapsed": true
   },
   "outputs": [],
   "source": []
  },
  {
   "cell_type": "code",
   "execution_count": 10,
   "metadata": {
    "collapsed": false
   },
   "outputs": [
    {
     "data": {
      "text/plain": [
       "Index(['Country (code)', 'Country', 'Region', 'Sub-region (broad)',\n",
       "       'Sub-region (detailed)', 'Income group (code)', 'Income group', 'Year',\n",
       "       'Sex (code)', 'Sex', 'Age group (code)', 'Labour force ('000)',\n",
       "       'Population ('000)', 'Labour force participation rate (%)',\n",
       "       'Repository (code)', 'Repository', 'Type of statistic (code)',\n",
       "       'Type of statistic'],\n",
       "      dtype='object')"
      ]
     },
     "execution_count": 10,
     "metadata": {},
     "output_type": "execute_result"
    }
   ],
   "source": [
    "data.columns"
   ]
  },
  {
   "cell_type": "code",
   "execution_count": null,
   "metadata": {
    "collapsed": true
   },
   "outputs": [],
   "source": []
  },
  {
   "cell_type": "code",
   "execution_count": 9,
   "metadata": {
    "collapsed": true
   },
   "outputs": [],
   "source": [
    "# country"
   ]
  },
  {
   "cell_type": "code",
   "execution_count": 15,
   "metadata": {
    "collapsed": true
   },
   "outputs": [],
   "source": [
    "country = data[['Country (code)', 'Country']].drop_duplicates().copy()"
   ]
  },
  {
   "cell_type": "code",
   "execution_count": 16,
   "metadata": {
    "collapsed": true
   },
   "outputs": [],
   "source": [
    "country.columns = [\n",
    "    'country', 'name'\n",
    "]"
   ]
  },
  {
   "cell_type": "code",
   "execution_count": 17,
   "metadata": {
    "collapsed": false
   },
   "outputs": [],
   "source": [
    "country['country'] = country['country'].map(to_concept_id)"
   ]
  },
  {
   "cell_type": "code",
   "execution_count": 20,
   "metadata": {
    "collapsed": false
   },
   "outputs": [],
   "source": [
    "country.to_csv('../ddf--entities--country.csv', index=False)"
   ]
  },
  {
   "cell_type": "code",
   "execution_count": null,
   "metadata": {
    "collapsed": true
   },
   "outputs": [],
   "source": []
  },
  {
   "cell_type": "code",
   "execution_count": 21,
   "metadata": {
    "collapsed": true
   },
   "outputs": [],
   "source": [
    "# age group"
   ]
  },
  {
   "cell_type": "code",
   "execution_count": 40,
   "metadata": {
    "collapsed": true
   },
   "outputs": [],
   "source": [
    "age = data[['Age group (code)']].drop_duplicates().copy()"
   ]
  },
  {
   "cell_type": "code",
   "execution_count": 41,
   "metadata": {
    "collapsed": false
   },
   "outputs": [],
   "source": [
    "age.columns = ['age_group']"
   ]
  },
  {
   "cell_type": "code",
   "execution_count": 42,
   "metadata": {
    "collapsed": true
   },
   "outputs": [],
   "source": [
    "age['name'] = 'Age ' + age['age_group']"
   ]
  },
  {
   "cell_type": "code",
   "execution_count": 43,
   "metadata": {
    "collapsed": true
   },
   "outputs": [],
   "source": [
    "age['age_group'] = age['age_group'].str.replace('+', '_plus')"
   ]
  },
  {
   "cell_type": "code",
   "execution_count": 44,
   "metadata": {
    "collapsed": false
   },
   "outputs": [],
   "source": [
    "age.to_csv('../ddf--entities--age_group.csv', index=False)"
   ]
  },
  {
   "cell_type": "code",
   "execution_count": null,
   "metadata": {
    "collapsed": true
   },
   "outputs": [],
   "source": []
  },
  {
   "cell_type": "code",
   "execution_count": 35,
   "metadata": {
    "collapsed": true
   },
   "outputs": [],
   "source": [
    "# sex"
   ]
  },
  {
   "cell_type": "code",
   "execution_count": 36,
   "metadata": {
    "collapsed": true
   },
   "outputs": [],
   "source": [
    "sex = data[['Sex (code)', 'Sex']].drop_duplicates().copy()"
   ]
  },
  {
   "cell_type": "code",
   "execution_count": 45,
   "metadata": {
    "collapsed": false
   },
   "outputs": [],
   "source": [
    "sex.columns = ['sex', 'name']\n",
    "\n",
    "sex['sex'] = sex['sex'].map(to_concept_id)"
   ]
  },
  {
   "cell_type": "code",
   "execution_count": 46,
   "metadata": {
    "collapsed": true
   },
   "outputs": [],
   "source": [
    "sex.to_csv('../ddf--entities--sex.csv', index=False)"
   ]
  },
  {
   "cell_type": "code",
   "execution_count": null,
   "metadata": {
    "collapsed": true
   },
   "outputs": [],
   "source": []
  },
  {
   "cell_type": "code",
   "execution_count": 47,
   "metadata": {
    "collapsed": true
   },
   "outputs": [],
   "source": [
    "# concepts"
   ]
  },
  {
   "cell_type": "code",
   "execution_count": 6,
   "metadata": {
    "collapsed": true
   },
   "outputs": [],
   "source": [
    "discs = ['Name', 'Year', 'Country', 'Sex', 'Age Group']\n",
    "\n",
    "conc = [\"Labour force ('000)\", \"Population ('000)\", \"Labour force participation rate (%)\"]"
   ]
  },
  {
   "cell_type": "code",
   "execution_count": 49,
   "metadata": {
    "collapsed": true
   },
   "outputs": [],
   "source": [
    "cdf = pd.DataFrame([], columns=['concept', 'name', 'concept_type'])\n",
    "\n",
    "cdf['name'] = [*discs, *conc]\n",
    "\n",
    "cdf['concept'] = cdf['name'].map(to_concept_id)"
   ]
  },
  {
   "cell_type": "code",
   "execution_count": 53,
   "metadata": {
    "collapsed": false
   },
   "outputs": [],
   "source": [
    "cdf.loc[5:, 'concept_type'] = 'measure'\n",
    "cdf.loc[0, 'concept_type'] = 'string'\n",
    "cdf.loc[1, 'concept_type'] = 'time'\n",
    "cdf.loc[2:4, 'concept_type'] = 'entity_domain'"
   ]
  },
  {
   "cell_type": "code",
   "execution_count": 55,
   "metadata": {
    "collapsed": false
   },
   "outputs": [],
   "source": [
    "cdf.to_csv('../ddf--concepts.csv', index=False)"
   ]
  },
  {
   "cell_type": "code",
   "execution_count": null,
   "metadata": {
    "collapsed": true
   },
   "outputs": [],
   "source": []
  },
  {
   "cell_type": "code",
   "execution_count": null,
   "metadata": {
    "collapsed": true
   },
   "outputs": [],
   "source": []
  },
  {
   "cell_type": "code",
   "execution_count": 56,
   "metadata": {
    "collapsed": true
   },
   "outputs": [],
   "source": [
    "# datapoints"
   ]
  },
  {
   "cell_type": "code",
   "execution_count": 15,
   "metadata": {
    "collapsed": false
   },
   "outputs": [],
   "source": [
    "dps = data[['Country (code)', 'Sex (code)', 'Age group (code)', 'Year', *conc]].copy()"
   ]
  },
  {
   "cell_type": "code",
   "execution_count": 8,
   "metadata": {
    "collapsed": false
   },
   "outputs": [
    {
     "data": {
      "text/html": [
       "<div>\n",
       "<table border=\"1\" class=\"dataframe\">\n",
       "  <thead>\n",
       "    <tr style=\"text-align: right;\">\n",
       "      <th></th>\n",
       "      <th>Country (code)</th>\n",
       "      <th>Sex (code)</th>\n",
       "      <th>Age group (code)</th>\n",
       "      <th>Year</th>\n",
       "      <th>Labour force ('000)</th>\n",
       "      <th>Population ('000)</th>\n",
       "      <th>Labour force participation rate (%)</th>\n",
       "    </tr>\n",
       "  </thead>\n",
       "  <tbody>\n",
       "    <tr>\n",
       "      <th>0</th>\n",
       "      <td>AFG</td>\n",
       "      <td>MF</td>\n",
       "      <td>15+</td>\n",
       "      <td>1990</td>\n",
       "      <td>3196.350586</td>\n",
       "      <td>6267.271973</td>\n",
       "      <td>51.000668</td>\n",
       "    </tr>\n",
       "    <tr>\n",
       "      <th>1</th>\n",
       "      <td>AFG</td>\n",
       "      <td>MF</td>\n",
       "      <td>15-24</td>\n",
       "      <td>1990</td>\n",
       "      <td>1026.528320</td>\n",
       "      <td>2293.822021</td>\n",
       "      <td>44.751873</td>\n",
       "    </tr>\n",
       "    <tr>\n",
       "      <th>2</th>\n",
       "      <td>AFG</td>\n",
       "      <td>MF</td>\n",
       "      <td>15-64</td>\n",
       "      <td>1990</td>\n",
       "      <td>3133.075439</td>\n",
       "      <td>6000.932129</td>\n",
       "      <td>52.209812</td>\n",
       "    </tr>\n",
       "    <tr>\n",
       "      <th>3</th>\n",
       "      <td>AFG</td>\n",
       "      <td>MF</td>\n",
       "      <td>25-54</td>\n",
       "      <td>1990</td>\n",
       "      <td>1936.388672</td>\n",
       "      <td>3330.002930</td>\n",
       "      <td>58.149757</td>\n",
       "    </tr>\n",
       "    <tr>\n",
       "      <th>4</th>\n",
       "      <td>AFG</td>\n",
       "      <td>MF</td>\n",
       "      <td>25-34</td>\n",
       "      <td>1990</td>\n",
       "      <td>910.755432</td>\n",
       "      <td>1549.147095</td>\n",
       "      <td>58.790768</td>\n",
       "    </tr>\n",
       "  </tbody>\n",
       "</table>\n",
       "</div>"
      ],
      "text/plain": [
       "  Country (code) Sex (code) Age group (code)  Year  Labour force ('000)  \\\n",
       "0            AFG         MF              15+  1990          3196.350586   \n",
       "1            AFG         MF            15-24  1990          1026.528320   \n",
       "2            AFG         MF            15-64  1990          3133.075439   \n",
       "3            AFG         MF            25-54  1990          1936.388672   \n",
       "4            AFG         MF            25-34  1990           910.755432   \n",
       "\n",
       "   Population ('000)  Labour force participation rate (%)  \n",
       "0        6267.271973                            51.000668  \n",
       "1        2293.822021                            44.751873  \n",
       "2        6000.932129                            52.209812  \n",
       "3        3330.002930                            58.149757  \n",
       "4        1549.147095                            58.790768  "
      ]
     },
     "execution_count": 8,
     "metadata": {},
     "output_type": "execute_result"
    }
   ],
   "source": [
    "dps.head()"
   ]
  },
  {
   "cell_type": "code",
   "execution_count": 16,
   "metadata": {
    "collapsed": false
   },
   "outputs": [],
   "source": [
    "dps.columns = ['country', 'sex', 'age_group', 'year', *[to_concept_id(x) for x in conc]]"
   ]
  },
  {
   "cell_type": "code",
   "execution_count": 17,
   "metadata": {
    "collapsed": false
   },
   "outputs": [],
   "source": [
    "dps['country'] = dps['country'].map(to_concept_id)\n",
    "dps['sex'] = dps['sex'].map(to_concept_id)\n",
    "\n",
    "dps['age_group'] = dps['age_group'].str.replace('+', '_plus').map(to_concept_id)"
   ]
  },
  {
   "cell_type": "code",
   "execution_count": 18,
   "metadata": {
    "collapsed": false
   },
   "outputs": [],
   "source": [
    "dps = dps.set_index(['country', 'sex', 'age_group', 'year'])"
   ]
  },
  {
   "cell_type": "code",
   "execution_count": 19,
   "metadata": {
    "collapsed": true
   },
   "outputs": [],
   "source": [
    "for k, df in dps.items():\n",
    "    df_ = df.reset_index()\n",
    "    path = '../ddf--datapoints--{}--by--country--sex--age_group--year.csv'.format(k)\n",
    "    df_.to_csv(path, index=False)"
   ]
  },
  {
   "cell_type": "code",
   "execution_count": null,
   "metadata": {
    "collapsed": true
   },
   "outputs": [],
   "source": []
  }
 ],
 "metadata": {
  "kernelspec": {
   "display_name": "Python 3",
   "language": "python",
   "name": "python3"
  },
  "language_info": {
   "codemirror_mode": {
    "name": "ipython",
    "version": 3
   },
   "file_extension": ".py",
   "mimetype": "text/x-python",
   "name": "python",
   "nbconvert_exporter": "python",
   "pygments_lexer": "ipython3",
   "version": "3.5.1"
  }
 },
 "nbformat": 4,
 "nbformat_minor": 0
}
